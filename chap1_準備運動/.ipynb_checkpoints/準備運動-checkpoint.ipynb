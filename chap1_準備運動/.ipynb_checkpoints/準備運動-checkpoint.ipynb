{
 "cells": [
  {
   "cell_type": "markdown",
   "metadata": {},
   "source": [
    "言語処理100本ノック"
   ]
  },
  {
   "cell_type": "markdown",
   "metadata": {},
   "source": [
    "# 準備運動"
   ]
  },
  {
   "cell_type": "markdown",
   "metadata": {},
   "source": [
    "## 文字列の逆順\n",
    "\n",
    "https://nlp100.github.io/ja/ch01.html#00-%E6%96%87%E5%AD%97%E5%88%97%E3%81%AE%E9%80%86%E9%A0%86\n",
    "\n",
    "<div style=\"border: 1px dashed #87dfff; background-color: #d6f4ff; padding: 4px\">\n",
    "文字列”stressed”の文字を逆に（末尾から先頭に向かって）並べた文字列を得よ．\n",
    "</div>"
   ]
  },
  {
   "cell_type": "code",
   "execution_count": 1,
   "metadata": {
    "ExecuteTime": {
     "end_time": "2020-04-28T18:05:04.328676Z",
     "start_time": "2020-04-28T18:05:04.326042Z"
    }
   },
   "outputs": [],
   "source": [
    "s = 'stressed'\n",
    "s_rev = s[::-1]"
   ]
  },
  {
   "cell_type": "code",
   "execution_count": 2,
   "metadata": {
    "ExecuteTime": {
     "end_time": "2020-04-28T18:05:04.340573Z",
     "start_time": "2020-04-28T18:05:04.332525Z"
    }
   },
   "outputs": [
    {
     "data": {
      "text/plain": [
       "'desserts'"
      ]
     },
     "execution_count": 2,
     "metadata": {},
     "output_type": "execute_result"
    }
   ],
   "source": [
    "s_rev"
   ]
  },
  {
   "cell_type": "markdown",
   "metadata": {},
   "source": [
    "つまり、文字列はC言語の`char[]`のように、リストと同じように扱うことができる。"
   ]
  },
  {
   "cell_type": "code",
   "execution_count": 3,
   "metadata": {
    "ExecuteTime": {
     "end_time": "2020-04-28T18:05:04.346952Z",
     "start_time": "2020-04-28T18:05:04.342747Z"
    }
   },
   "outputs": [
    {
     "data": {
      "text/plain": [
       "['S', 'T', 'R', 'E', 'S', 'S', 'E', 'D']"
      ]
     },
     "execution_count": 3,
     "metadata": {},
     "output_type": "execute_result"
    }
   ],
   "source": [
    "[c.upper() for c in s]"
   ]
  },
  {
   "cell_type": "markdown",
   "metadata": {},
   "source": [
    "すごい。何がすごいって、「stressed」(強調された)がひっくり返すと「desserts」(砂漠)になるなんて。"
   ]
  },
  {
   "cell_type": "markdown",
   "metadata": {},
   "source": [
    "## 「パタトクカシーー」\n",
    "\n",
    "https://nlp100.github.io/ja/ch01.html#01-%E3%83%91%E3%82%BF%E3%83%88%E3%82%AF%E3%82%AB%E3%82%B7%E3%83%BC%E3%83%BC\n",
    "\n",
    "<div style=\"border: 1px dashed #87dfff; background-color: #d6f4ff; padding: 4px; margin: 4px;\">\n",
    "「パタトクカシーー」という文字列の1,3,5,7文字目を取り出して連結した文字列を得よ．\n",
    "</div>"
   ]
  },
  {
   "cell_type": "code",
   "execution_count": 4,
   "metadata": {
    "ExecuteTime": {
     "end_time": "2020-04-28T18:05:04.353970Z",
     "start_time": "2020-04-28T18:05:04.349754Z"
    }
   },
   "outputs": [
    {
     "data": {
      "text/plain": [
       "'パトカー'"
      ]
     },
     "execution_count": 4,
     "metadata": {},
     "output_type": "execute_result"
    }
   ],
   "source": [
    "s = 'パタトクカシーー'\n",
    "s[0] + s[2] + s[4] + s[6]"
   ]
  },
  {
   "cell_type": "markdown",
   "metadata": {},
   "source": [
    "ちょっとこれだと芸がないので、たとえばこんな感じでもできる。"
   ]
  },
  {
   "cell_type": "code",
   "execution_count": 5,
   "metadata": {
    "ExecuteTime": {
     "end_time": "2020-04-28T18:05:04.359461Z",
     "start_time": "2020-04-28T18:05:04.355830Z"
    }
   },
   "outputs": [
    {
     "data": {
      "text/plain": [
       "'パトカー'"
      ]
     },
     "execution_count": 5,
     "metadata": {},
     "output_type": "execute_result"
    }
   ],
   "source": [
    "s[::2]"
   ]
  },
  {
   "cell_type": "markdown",
   "metadata": {},
   "source": [
    "## 「パトカー」＋「タクシー」＝「パタトクカシーー」\n",
    "\n",
    "https://nlp100.github.io/ja/ch01.html#02-%E3%83%91%E3%83%88%E3%82%AB%E3%83%BC%E3%82%BF%E3%82%AF%E3%82%B7%E3%83%BC%E3%83%91%E3%82%BF%E3%83%88%E3%82%AF%E3%82%AB%E3%82%B7%E3%83%BC%E3%83%BC\n",
    "\n",
    "<div style=\"border: 1px dashed #87dfff; background-color: #d6f4ff; padding: 4px; margin: 4px;\">\n",
    "「パトカー」＋「タクシー」の文字を先頭から交互に連結して文字列「パタトクカシーー」を得よ．\n",
    "</div>"
   ]
  },
  {
   "cell_type": "code",
   "execution_count": 6,
   "metadata": {
    "ExecuteTime": {
     "end_time": "2020-04-28T18:05:04.366156Z",
     "start_time": "2020-04-28T18:05:04.361596Z"
    }
   },
   "outputs": [
    {
     "data": {
      "text/plain": [
       "'パタトクカシーー'"
      ]
     },
     "execution_count": 6,
     "metadata": {},
     "output_type": "execute_result"
    }
   ],
   "source": [
    "patocar = 'パトカー'\n",
    "taxi = 'タクシー'\n",
    "\n",
    "''.join([p + c for p, c in zip(patocar, taxi)])"
   ]
  },
  {
   "cell_type": "markdown",
   "metadata": {},
   "source": [
    "## 円周率\n",
    "\n",
    "https://nlp100.github.io/ja/ch01.html#03-%E5%86%86%E5%91%A8%E7%8E%87\n",
    "  \n",
    "<div style=\"border: 1px dashed #87dfff; background-color: #d6f4ff; padding: 4px; margin: 4px;\">\n",
    "“Now I need a drink, alcoholic of course, after the heavy lectures involving quantum mechanics.”という文を単語に分解し，各単語の（アルファベットの）文字数を先頭から出現順に並べたリストを作成せよ．\n",
    "</div>"
   ]
  },
  {
   "cell_type": "code",
   "execution_count": 7,
   "metadata": {
    "ExecuteTime": {
     "end_time": "2020-04-28T18:05:04.373426Z",
     "start_time": "2020-04-28T18:05:04.368512Z"
    }
   },
   "outputs": [
    {
     "data": {
      "text/plain": [
       "[3, 1, 4, 1, 5, 9, 2, 6, 5, 3, 5, 8, 9, 7, 9]"
      ]
     },
     "execution_count": 7,
     "metadata": {},
     "output_type": "execute_result"
    }
   ],
   "source": [
    "s = \"Now I need a drink, alcoholic of course, after the heavy lectures involving quantum mechanics.\"\n",
    "\n",
    "[len(x.strip('.,')) for x in s.split()]"
   ]
  },
  {
   "cell_type": "markdown",
   "metadata": {},
   "source": [
    "stripの引数は、除去される文字の種類を複数指定できる。ただし、除去できるのは端にある文字だけで、内側にあるものは除去できない。\n"
   ]
  },
  {
   "cell_type": "code",
   "execution_count": 8,
   "metadata": {
    "ExecuteTime": {
     "end_time": "2020-04-28T18:05:04.380598Z",
     "start_time": "2020-04-28T18:05:04.376262Z"
    }
   },
   "outputs": [
    {
     "data": {
      "text/plain": [
       "'Mr. Junko'"
      ]
     },
     "execution_count": 8,
     "metadata": {},
     "output_type": "execute_result"
    }
   ],
   "source": [
    "'Mr. Junko'.strip('.')"
   ]
  },
  {
   "cell_type": "markdown",
   "metadata": {},
   "source": [
    "## 元素記号\n",
    "\n",
    "https://nlp100.github.io/ja/ch01.html#04-%E5%85%83%E7%B4%A0%E8%A8%98%E5%8F%B7\n",
    "\n",
    "<div style=\"border: 1px dashed #87dfff; background-color: #d6f4ff; padding: 4px;  margin: 4px;\">\n",
    "“Hi He Lied Because Boron Could Not Oxidize Fluorine. New Nations Might Also Sign Peace Security Clause. Arthur King Can.”という文を単語に分解し，1, 5, 6, 7, 8, 9, 15, 16, 19番目の単語は先頭の1文字，それ以外の単語は先頭に2文字を取り出し，取り出した文字列から単語の位置（先頭から何番目の単語か）への連想配列（辞書型もしくはマップ型）を作成せよ．</div>"
   ]
  },
  {
   "cell_type": "code",
   "execution_count": 9,
   "metadata": {
    "ExecuteTime": {
     "end_time": "2020-04-28T18:05:04.388125Z",
     "start_time": "2020-04-28T18:05:04.383052Z"
    }
   },
   "outputs": [
    {
     "data": {
      "text/plain": [
       "['H',\n",
       " 'He',\n",
       " 'Li',\n",
       " 'Be',\n",
       " 'B',\n",
       " 'C',\n",
       " 'N',\n",
       " 'O',\n",
       " 'F',\n",
       " 'Ne',\n",
       " 'Na',\n",
       " 'Mi',\n",
       " 'Al',\n",
       " 'Si',\n",
       " 'P',\n",
       " 'S',\n",
       " 'Cl',\n",
       " 'Ar',\n",
       " 'K',\n",
       " 'Ca']"
      ]
     },
     "execution_count": 9,
     "metadata": {},
     "output_type": "execute_result"
    }
   ],
   "source": [
    "s = 'Hi He Lied Because Boron Could Not Oxidize Fluorine. New Nations Might Also Sign Peace Security Clause. Arthur King Can.'\n",
    "\n",
    "[x[0] if i in [0, 4, 5, 6, 7, 8, 14, 15, 18] else x[:2] for i, x in enumerate(s.split())]"
   ]
  },
  {
   "cell_type": "markdown",
   "metadata": {},
   "source": [
    "マグネシウムがなんか違う気がするけど、まあいいか。"
   ]
  },
  {
   "cell_type": "markdown",
   "metadata": {},
   "source": [
    "## n-gram \n",
    "\n",
    "https://nlp100.github.io/ja/ch01.html#05-n-gram\n",
    "\n",
    "<div style=\"border: 1px dashed #87dfff; background-color: #d6f4ff; padding: 4px;  margin: 4px;\">\n",
    "与えられたシーケンス（文字列やリストなど）からn-gramを作る関数を作成せよ．この関数を用い，”I am an NLPer”という文から単語bi-gram，文字bi-gramを得よ．\n",
    "</div>"
   ]
  },
  {
   "cell_type": "markdown",
   "metadata": {},
   "source": [
    "* 単語bi-gram：連続する2つの単語のペアを列挙したもの\n",
    "    * `('I', 'am'), ('am', 'an'), ...`\n",
    "* 文字bi-gram：連続する2つの文字のペアを列挙したもの\n",
    "    * `('I', ' '), (' ', 'a'), ('a', 'm'), ...`"
   ]
  },
  {
   "cell_type": "code",
   "execution_count": 10,
   "metadata": {
    "ExecuteTime": {
     "end_time": "2020-04-28T18:05:04.395671Z",
     "start_time": "2020-04-28T18:05:04.390556Z"
    }
   },
   "outputs": [],
   "source": [
    "def get_n_gram(seq, character=False):\n",
    "    if character:\n",
    "        seqlen = len(seq)\n",
    "        return [seq[i] + seq[i+1] for i in range(seqlen - 1)]\n",
    "    \n",
    "    seq_split = seq.split()\n",
    "    seqlen = len(seq_split)\n",
    "    return [(seq_split[i], seq_split[i+1]) for i in range(seqlen - 1)]"
   ]
  },
  {
   "cell_type": "code",
   "execution_count": 11,
   "metadata": {
    "ExecuteTime": {
     "end_time": "2020-04-28T18:05:04.401798Z",
     "start_time": "2020-04-28T18:05:04.398034Z"
    }
   },
   "outputs": [
    {
     "data": {
      "text/plain": [
       "[('I', 'am'), ('am', 'an'), ('an', 'NLPer')]"
      ]
     },
     "execution_count": 11,
     "metadata": {},
     "output_type": "execute_result"
    }
   ],
   "source": [
    "get_n_gram(\"I am an NLPer\")"
   ]
  },
  {
   "cell_type": "code",
   "execution_count": 12,
   "metadata": {
    "ExecuteTime": {
     "end_time": "2020-04-28T18:05:04.408863Z",
     "start_time": "2020-04-28T18:05:04.404628Z"
    }
   },
   "outputs": [
    {
     "data": {
      "text/plain": [
       "['I ', ' a', 'am', 'm ', ' a', 'an', 'n ', ' N', 'NL', 'LP', 'Pe', 'er']"
      ]
     },
     "execution_count": 12,
     "metadata": {},
     "output_type": "execute_result"
    }
   ],
   "source": [
    "get_n_gram(\"I am an NLPer\", character=True)"
   ]
  },
  {
   "cell_type": "markdown",
   "metadata": {},
   "source": [
    "## テンプレートによる文生成\n",
    "\n",
    "https://nlp100.github.io/ja/ch01.html#07-%E3%83%86%E3%83%B3%E3%83%97%E3%83%AC%E3%83%BC%E3%83%88%E3%81%AB%E3%82%88%E3%82%8B%E6%96%87%E7%94%9F%E6%88%90\n",
    "\n",
    "<div style=\"border: 1px dashed #87dfff; background-color: #d6f4ff; padding: 4px;  margin: 4px;\">\n",
    "引数x, y, zを受け取り「x時のyはz」という文字列を返す関数を実装せよ．さらに，x=12, y=”気温”, z=22.4として，実行結果を確認せよ．\n",
    "</div>"
   ]
  },
  {
   "cell_type": "code",
   "execution_count": 13,
   "metadata": {
    "ExecuteTime": {
     "end_time": "2020-04-28T18:05:04.414067Z",
     "start_time": "2020-04-28T18:05:04.411513Z"
    }
   },
   "outputs": [],
   "source": [
    "def forecast(x, y, z):\n",
    "    return f'{x}時の{y}は{z}'"
   ]
  },
  {
   "cell_type": "code",
   "execution_count": 14,
   "metadata": {
    "ExecuteTime": {
     "end_time": "2020-04-28T18:05:04.420376Z",
     "start_time": "2020-04-28T18:05:04.416162Z"
    }
   },
   "outputs": [
    {
     "data": {
      "text/plain": [
       "'12時の気温は22.4'"
      ]
     },
     "execution_count": 14,
     "metadata": {},
     "output_type": "execute_result"
    }
   ],
   "source": [
    "forecast(12, '気温', 22.4)"
   ]
  },
  {
   "cell_type": "markdown",
   "metadata": {},
   "source": [
    "加算演算子を使って`x + '時の'+ y + 'は' + z`って書き方もいいかなと思ったけど、Pythonでこれやるとxは`str(x)`ってキャストしないと怒られるからやめた。"
   ]
  },
  {
   "cell_type": "markdown",
   "metadata": {},
   "source": [
    "## 暗号文\n",
    "\n",
    "https://nlp100.github.io/ja/ch01.html#08-%E6%9A%97%E5%8F%B7%E6%96%87\n",
    "\n",
    "<div style=\"border: 1px dashed #87dfff; background-color: #d6f4ff; padding: 4px;  margin: 4px;\">\n",
    "与えられた文字列の各文字を，以下の仕様で変換する関数cipherを実装せよ．\n",
    "    \n",
    "* 英小文字ならば(219 - 文字コード)の文字に置換\n",
    "* その他の文字はそのまま出力\n",
    "\n",
    "この関数を用い，英語のメッセージを暗号化・復号化せよ．\n",
    "</div>"
   ]
  },
  {
   "cell_type": "code",
   "execution_count": 15,
   "metadata": {
    "ExecuteTime": {
     "end_time": "2020-04-28T18:05:04.426962Z",
     "start_time": "2020-04-28T18:05:04.423103Z"
    }
   },
   "outputs": [],
   "source": [
    "def cipher(s):\n",
    "    # 小文字なら219-文字コードの文字に変換する関数converter\n",
    "    converter = lambda c: chr(219 - ord(c)) if (ord('a') <= ord(c) <= ord('z') ) else c\n",
    "    \n",
    "    ciphered = ''.join([converter(c) for c in s])\n",
    "    return ciphered"
   ]
  },
  {
   "cell_type": "code",
   "execution_count": 16,
   "metadata": {
    "ExecuteTime": {
     "end_time": "2020-04-28T18:05:04.433355Z",
     "start_time": "2020-04-28T18:05:04.429647Z"
    }
   },
   "outputs": [
    {
     "data": {
      "text/plain": [
       "'A Brt Bildm Flc Jfnkvw Oevi Tsv Lzab Dlt.'"
      ]
     },
     "execution_count": 16,
     "metadata": {},
     "output_type": "execute_result"
    }
   ],
   "source": [
    "cipher('A Big Brown Fox Jumped Over The Lazy Dog.')"
   ]
  },
  {
   "cell_type": "markdown",
   "metadata": {},
   "source": [
    "シーザー暗号かと思いきや、シフトしてるわけじゃないのでちょっと違うっぽい。"
   ]
  },
  {
   "cell_type": "markdown",
   "metadata": {},
   "source": [
    "## Typoglycemia\n",
    "\n",
    "https://nlp100.github.io/ja/ch01.html#09-typoglycemia\n",
    "\n",
    "<div style=\"border: 1px dashed #87dfff; background-color: #d6f4ff; padding: 4px;  margin: 4px;\">\n",
    "スペースで区切られた単語列に対して，各単語の先頭と末尾の文字は残し，それ以外の文字の順序をランダムに並び替えるプログラムを作成せよ．ただし，長さが４以下の単語は並び替えないこととする．適当な英語の文（例えば”I couldn’t believe that I could actually understand what I was reading : the phenomenal power of the human mind .”）を与え，その実行結果を確認せよ．\n",
    "</div>"
   ]
  },
  {
   "cell_type": "code",
   "execution_count": 17,
   "metadata": {
    "ExecuteTime": {
     "end_time": "2020-04-28T18:05:04.440632Z",
     "start_time": "2020-04-28T18:05:04.435595Z"
    }
   },
   "outputs": [],
   "source": [
    "import random\n",
    "\n",
    "s = 'I couldn’t believe that I could actually understand what I was reading : the phenomenal power of the human mind .'\n",
    "\n",
    "def obfuscate_string(s):\n",
    "    s_words = s.split()\n",
    "    obfuscated = [] # 文字を並べ替えたあとの文字列\n",
    "    \n",
    "    for word in s_words:\n",
    "        if len(word) <= 4:\n",
    "            obfuscated.append(word)\n",
    "        else:\n",
    "            obfuscate_index = list(range(len(word) - 2))\n",
    "            random.shuffle(obfuscate_index)\n",
    "            word_obfus = word[0] + ''.join([word[1:-1][i] for i in obfuscate_index]) + word[-1]\n",
    "            obfuscated.append(word_obfus)\n",
    "    \n",
    "    return ' '.join(obfuscated)"
   ]
  },
  {
   "cell_type": "code",
   "execution_count": 18,
   "metadata": {
    "ExecuteTime": {
     "end_time": "2020-04-28T18:05:04.447245Z",
     "start_time": "2020-04-28T18:05:04.443462Z"
    }
   },
   "outputs": [
    {
     "data": {
      "text/plain": [
       "'I couldn’t believe that I could actually understand what I was reading : the phenomenal power of the human mind .'"
      ]
     },
     "execution_count": 18,
     "metadata": {},
     "output_type": "execute_result"
    }
   ],
   "source": [
    "s"
   ]
  },
  {
   "cell_type": "code",
   "execution_count": 19,
   "metadata": {
    "ExecuteTime": {
     "end_time": "2020-04-28T18:05:04.453271Z",
     "start_time": "2020-04-28T18:05:04.449615Z"
    }
   },
   "outputs": [
    {
     "data": {
      "text/plain": [
       "'I cluod’nt beilvee that I cuold aclultay utsnadrned what I was rdaeing : the pemeoahnnl peowr of the hmaun mind .'"
      ]
     },
     "execution_count": 19,
     "metadata": {},
     "output_type": "execute_result"
    }
   ],
   "source": [
    "obfuscate_string(s)"
   ]
  },
  {
   "cell_type": "markdown",
   "metadata": {
    "ExecuteTime": {
     "end_time": "2020-04-28T18:02:07.590207Z",
     "start_time": "2020-04-28T18:02:07.586030Z"
    }
   },
   "source": [
    "単語の途中の文字が入れ替わっていても、なんとなく読めてしまう現象をタイポグリセミアと言うそうです。私は読めませんでした。\n",
    "\n",
    "https://ja.wikipedia.org/wiki/%E3%82%BF%E3%82%A4%E3%83%9D%E3%82%B0%E3%83%AA%E3%82%BB%E3%83%9F%E3%82%A2"
   ]
  }
 ],
 "metadata": {
  "kernelspec": {
   "display_name": "Python 3",
   "language": "python",
   "name": "python3"
  },
  "language_info": {
   "codemirror_mode": {
    "name": "ipython",
    "version": 3
   },
   "file_extension": ".py",
   "mimetype": "text/x-python",
   "name": "python",
   "nbconvert_exporter": "python",
   "pygments_lexer": "ipython3",
   "version": "3.7.7"
  },
  "toc": {
   "base_numbering": 1,
   "nav_menu": {},
   "number_sections": true,
   "sideBar": true,
   "skip_h1_title": false,
   "title_cell": "Table of Contents",
   "title_sidebar": "Contents",
   "toc_cell": false,
   "toc_position": {},
   "toc_section_display": true,
   "toc_window_display": false
  }
 },
 "nbformat": 4,
 "nbformat_minor": 4
}
